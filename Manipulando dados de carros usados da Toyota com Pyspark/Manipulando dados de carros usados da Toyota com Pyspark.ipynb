{
 "cells": [
  {
   "cell_type": "markdown",
   "id": "4cabf205",
   "metadata": {},
   "source": [
    "## Exploração e Manipulação de um dataset de carros da Toyota com Pyspark"
   ]
  },
  {
   "cell_type": "code",
   "execution_count": 1,
   "id": "def69ab3",
   "metadata": {},
   "outputs": [],
   "source": [
    "import os\n",
    "os.environ['SPARK_HOME'] = \"C:/Users/jonat/Jupyter/spark-3.2.1-bin-hadoop2.7\""
   ]
  },
  {
   "cell_type": "code",
   "execution_count": 2,
   "id": "2d9afbf5",
   "metadata": {},
   "outputs": [],
   "source": [
    "import findspark\n",
    "findspark.init()"
   ]
  },
  {
   "cell_type": "markdown",
   "id": "cb9bcb5e",
   "metadata": {},
   "source": [
    "### Criando uma spark session"
   ]
  },
  {
   "cell_type": "code",
   "execution_count": 3,
   "id": "6d9b4f08",
   "metadata": {},
   "outputs": [],
   "source": [
    "from pyspark.sql import SparkSession\n",
    "spark = SparkSession.builder\\\n",
    "        .master('local')\\\n",
    "        .appName('sparkjupyter')\\\n",
    "        .getOrCreate()"
   ]
  },
  {
   "cell_type": "code",
   "execution_count": 4,
   "id": "cae55dea",
   "metadata": {},
   "outputs": [],
   "source": [
    "#importar o dataset\n",
    "tabela = spark.read.csv('C:/Users/jonat/Jupyter/Toyota.csv', header=True, inferSchema=True)"
   ]
  },
  {
   "cell_type": "code",
   "execution_count": 5,
   "id": "2d7b1380",
   "metadata": {},
   "outputs": [
    {
     "name": "stdout",
     "output_type": "stream",
     "text": [
      "+---+-----+---+-----+--------+----+--------+---------+----+-----+------+\n",
      "|_c0|Price|Age|   KM|FuelType|  HP|MetColor|Automatic|  CC|Doors|Weight|\n",
      "+---+-----+---+-----+--------+----+--------+---------+----+-----+------+\n",
      "|  0|13500| 23|46986|  Diesel|  90|       1|        0|2000|three|  1165|\n",
      "|  1|13750| 23|72937|  Diesel|  90|       1|        0|2000|    3|  1165|\n",
      "|  2|13950| 24|41711|  Diesel|  90|    null|        0|2000|    3|  1165|\n",
      "|  3|14950| 26|48000|  Diesel|  90|       0|        0|2000|    3|  1165|\n",
      "|  4|13750| 30|38500|  Diesel|  90|       0|        0|2000|    3|  1170|\n",
      "|  5|12950| 32|61000|  Diesel|  90|       0|        0|2000|    3|  1170|\n",
      "|  6|16900| 27|   ??|  Diesel|????|    null|        0|2000|    3|  1245|\n",
      "|  7|18600| 30|75889|    null|  90|       1|        0|2000|    3|  1245|\n",
      "|  8|21500| 27|19700|  Petrol| 192|       0|        0|1800|    3|  1185|\n",
      "|  9|12950| 23|71138|  Diesel|????|    null|        0|1900|    3|  1105|\n",
      "| 10|20950| 25|31461|  Petrol| 192|       0|        0|1800|    3|  1185|\n",
      "| 11|19950| 22|43610|  Petrol| 192|       0|        0|1800|    3|  1185|\n",
      "| 12|19600| 25|32189|  Petrol| 192|       0|        0|1800|    3|  1185|\n",
      "| 13|21500| 31|23000|  Petrol| 192|       1|        0|1800|    3|  1185|\n",
      "| 14|22500| 32|34131|  Petrol| 192|       1|        0|1800|    3|  1185|\n",
      "| 15|22000| 28|18739|  Petrol|????|       0|        0|1800|    3|  1185|\n",
      "| 16|22750| 30|34000|  Petrol| 192|       1|        0|1800|    3|  1185|\n",
      "| 17|17950| 24|21716|  Petrol| 110|       1|        0|1600|    3|  1105|\n",
      "| 18|16750| 24|25563|  Petrol| 110|       0|        0|1600|    3|  1065|\n",
      "| 19|16950| 30|64359|  Petrol| 110|       1|        0|1600|    3|  1105|\n",
      "+---+-----+---+-----+--------+----+--------+---------+----+-----+------+\n",
      "only showing top 20 rows\n",
      "\n"
     ]
    }
   ],
   "source": [
    "tabela.show()"
   ]
  },
  {
   "cell_type": "code",
   "execution_count": 6,
   "id": "ac9f01dd",
   "metadata": {},
   "outputs": [
    {
     "name": "stdout",
     "output_type": "stream",
     "text": [
      "(1436, 11)\n"
     ]
    }
   ],
   "source": [
    "print((tabela.count(), len(tabela.columns)))"
   ]
  },
  {
   "cell_type": "code",
   "execution_count": 7,
   "id": "48550313",
   "metadata": {},
   "outputs": [
    {
     "name": "stdout",
     "output_type": "stream",
     "text": [
      "root\n",
      " |-- _c0: integer (nullable = true)\n",
      " |-- Price: integer (nullable = true)\n",
      " |-- Age: integer (nullable = true)\n",
      " |-- KM: string (nullable = true)\n",
      " |-- FuelType: string (nullable = true)\n",
      " |-- HP: string (nullable = true)\n",
      " |-- MetColor: integer (nullable = true)\n",
      " |-- Automatic: integer (nullable = true)\n",
      " |-- CC: integer (nullable = true)\n",
      " |-- Doors: string (nullable = true)\n",
      " |-- Weight: integer (nullable = true)\n",
      "\n"
     ]
    }
   ],
   "source": [
    "tabela.printSchema()"
   ]
  },
  {
   "cell_type": "markdown",
   "id": "b3c96c4f",
   "metadata": {},
   "source": [
    "## Manipulando os dados"
   ]
  },
  {
   "cell_type": "markdown",
   "id": "7733553d",
   "metadata": {},
   "source": [
    "#### Tratando a coluna 'Doors'"
   ]
  },
  {
   "cell_type": "code",
   "execution_count": 8,
   "id": "b080adb8",
   "metadata": {},
   "outputs": [
    {
     "name": "stdout",
     "output_type": "stream",
     "text": [
      "+-----+-----+\n",
      "|Doors|count|\n",
      "+-----+-----+\n",
      "|    5|  673|\n",
      "|    3|  621|\n",
      "|    4|  137|\n",
      "|    2|    2|\n",
      "| four|    1|\n",
      "|three|    1|\n",
      "| five|    1|\n",
      "+-----+-----+\n",
      "\n"
     ]
    }
   ],
   "source": [
    "tabela.groupBy('Doors').count().orderBy('count', ascending=False).show()"
   ]
  },
  {
   "cell_type": "code",
   "execution_count": 9,
   "id": "b3d2ff94",
   "metadata": {},
   "outputs": [
    {
     "name": "stdout",
     "output_type": "stream",
     "text": [
      "+-----+-----+\n",
      "|Doors|count|\n",
      "+-----+-----+\n",
      "|    5|  674|\n",
      "|    3|  622|\n",
      "|    4|  138|\n",
      "|    2|    2|\n",
      "+-----+-----+\n",
      "\n"
     ]
    }
   ],
   "source": [
    "tabela = tabela.na.replace({'four': '4','three':'3','five':'5'})\n",
    "tabela.groupBy('Doors').count().orderBy('count', ascending=False).show()"
   ]
  },
  {
   "cell_type": "code",
   "execution_count": 10,
   "id": "e63abaeb",
   "metadata": {},
   "outputs": [
    {
     "name": "stdout",
     "output_type": "stream",
     "text": [
      "root\n",
      " |-- _c0: integer (nullable = true)\n",
      " |-- Price: integer (nullable = true)\n",
      " |-- Age: integer (nullable = true)\n",
      " |-- KM: string (nullable = true)\n",
      " |-- FuelType: string (nullable = true)\n",
      " |-- HP: string (nullable = true)\n",
      " |-- MetColor: integer (nullable = true)\n",
      " |-- Automatic: integer (nullable = true)\n",
      " |-- CC: integer (nullable = true)\n",
      " |-- Doors: integer (nullable = true)\n",
      " |-- Weight: integer (nullable = true)\n",
      "\n"
     ]
    }
   ],
   "source": [
    "#Apagando a coluna Doors e criando uma nova coluna doors do tipo int\n",
    "tabela = tabela.withColumn(\"Doors\",tabela[\"Doors\"].cast('integer'))\n",
    "tabela.printSchema()"
   ]
  },
  {
   "cell_type": "markdown",
   "id": "51a1e665",
   "metadata": {},
   "source": [
    "#### Localizando valores nulos ou NaN"
   ]
  },
  {
   "cell_type": "code",
   "execution_count": 11,
   "id": "f3bfe41d",
   "metadata": {},
   "outputs": [],
   "source": [
    "from pyspark.sql.functions import col,isnan, when, count"
   ]
  },
  {
   "cell_type": "code",
   "execution_count": 12,
   "id": "a7635e9d",
   "metadata": {},
   "outputs": [
    {
     "name": "stdout",
     "output_type": "stream",
     "text": [
      "+---+-----+---+---+--------+---+--------+---------+---+-----+------+\n",
      "|_c0|Price|Age| KM|FuelType| HP|MetColor|Automatic| CC|Doors|Weight|\n",
      "+---+-----+---+---+--------+---+--------+---------+---+-----+------+\n",
      "|  0|    0|100|  0|     100|  0|     150|        0|  0|    0|     0|\n",
      "+---+-----+---+---+--------+---+--------+---------+---+-----+------+\n",
      "\n"
     ]
    }
   ],
   "source": [
    "tabela.select([count(when(isnan(c) | col(c).isNull(), c)).alias(c) for c in tabela.columns]\n",
    "   ).show()"
   ]
  },
  {
   "cell_type": "markdown",
   "id": "2c940fd4",
   "metadata": {},
   "source": [
    "#### Tratando a coluna 'MetColor'\n",
    "a coluna possui valores binários, os campos null serão substituidos por 0"
   ]
  },
  {
   "cell_type": "code",
   "execution_count": 13,
   "id": "cebbe448",
   "metadata": {},
   "outputs": [
    {
     "name": "stdout",
     "output_type": "stream",
     "text": [
      "+--------+-----+\n",
      "|MetColor|count|\n",
      "+--------+-----+\n",
      "|       1|  868|\n",
      "|       0|  418|\n",
      "|    null|  150|\n",
      "+--------+-----+\n",
      "\n"
     ]
    }
   ],
   "source": [
    "tabela.groupBy('MetColor').count().orderBy('count', ascending=False).show()"
   ]
  },
  {
   "cell_type": "code",
   "execution_count": 14,
   "id": "6b6ee4dc",
   "metadata": {},
   "outputs": [
    {
     "name": "stdout",
     "output_type": "stream",
     "text": [
      "+--------+-----+\n",
      "|MetColor|count|\n",
      "+--------+-----+\n",
      "|       1|  868|\n",
      "|       0|  568|\n",
      "+--------+-----+\n",
      "\n"
     ]
    }
   ],
   "source": [
    "tabela = tabela.na.fill(value=0,subset=[\"MetColor\"])\n",
    "tabela.groupBy('MetColor').count().orderBy('count', ascending=False).show()"
   ]
  },
  {
   "cell_type": "markdown",
   "id": "2a723a03",
   "metadata": {},
   "source": [
    "#### Coluna FuelType"
   ]
  },
  {
   "cell_type": "code",
   "execution_count": 15,
   "id": "384ad7f7",
   "metadata": {},
   "outputs": [
    {
     "name": "stdout",
     "output_type": "stream",
     "text": [
      "+-------------+-----+\n",
      "|     FuelType|count|\n",
      "+-------------+-----+\n",
      "|       Petrol| 1177|\n",
      "|       Diesel|  144|\n",
      "|nao informado|  100|\n",
      "|          CNG|   15|\n",
      "+-------------+-----+\n",
      "\n"
     ]
    }
   ],
   "source": [
    "tabela = tabela.na.fill(value='nao informado',subset=[\"FuelType\"])\n",
    "tabela.groupBy('FuelType').count().orderBy('count', ascending=False).show()"
   ]
  },
  {
   "cell_type": "markdown",
   "id": "00916b33",
   "metadata": {},
   "source": [
    "#### Coluna Age\n",
    "Os valores null da tabela 'Age' serão substituidos pelos valores mais frequentes"
   ]
  },
  {
   "cell_type": "code",
   "execution_count": 22,
   "id": "d4413ac4",
   "metadata": {},
   "outputs": [
    {
     "name": "stdout",
     "output_type": "stream",
     "text": [
      "+---+-----+\n",
      "|Age|count|\n",
      "+---+-----+\n",
      "| 62|  141|\n",
      "| 65|   62|\n",
      "| 68|   60|\n",
      "| 80|   52|\n",
      "| 78|   41|\n",
      "+---+-----+\n",
      "only showing top 5 rows\n",
      "\n"
     ]
    }
   ],
   "source": [
    "tabela.groupBy('Age').count().orderBy('count', ascending=False).show(5)"
   ]
  },
  {
   "cell_type": "code",
   "execution_count": 17,
   "id": "686e35a9",
   "metadata": {},
   "outputs": [],
   "source": [
    "tabela = tabela.na.fill(value=62,subset=[\"Age\"])"
   ]
  },
  {
   "cell_type": "code",
   "execution_count": 18,
   "id": "e8e33490",
   "metadata": {},
   "outputs": [
    {
     "name": "stdout",
     "output_type": "stream",
     "text": [
      "+---+-----+---+---+--------+---+--------+---------+---+-----+------+\n",
      "|_c0|Price|Age| KM|FuelType| HP|MetColor|Automatic| CC|Doors|Weight|\n",
      "+---+-----+---+---+--------+---+--------+---------+---+-----+------+\n",
      "|  0|    0|  0|  0|       0|  0|       0|        0|  0|    0|     0|\n",
      "+---+-----+---+---+--------+---+--------+---------+---+-----+------+\n",
      "\n"
     ]
    }
   ],
   "source": [
    "tabela.select([count(when(isnan(c) | col(c).isNull(), c)).alias(c) for c in tabela.columns]\n",
    "   ).show()"
   ]
  },
  {
   "cell_type": "code",
   "execution_count": 20,
   "id": "5640ef79",
   "metadata": {},
   "outputs": [
    {
     "name": "stdout",
     "output_type": "stream",
     "text": [
      "+-----+---+--------+\n",
      "|Price|Age|FuelType|\n",
      "+-----+---+--------+\n",
      "|13500| 23|  Diesel|\n",
      "|13750| 23|  Diesel|\n",
      "|13950| 24|  Diesel|\n",
      "|14950| 26|  Diesel|\n",
      "|13750| 30|  Diesel|\n",
      "+-----+---+--------+\n",
      "only showing top 5 rows\n",
      "\n"
     ]
    }
   ],
   "source": [
    "# Selecionando um subconjunto do dataset\n",
    "select = tabela.select(\"Price\", \"Age\", \"FuelType\")\n",
    "select.show(5)"
   ]
  },
  {
   "cell_type": "code",
   "execution_count": 21,
   "id": "a2130b38",
   "metadata": {},
   "outputs": [
    {
     "name": "stdout",
     "output_type": "stream",
     "text": [
      "+---+-----+---+-----+--------+---+--------+---------+----+-----+------+\n",
      "|_c0|Price|Age|   KM|FuelType| HP|MetColor|Automatic|  CC|Doors|Weight|\n",
      "+---+-----+---+-----+--------+---+--------+---------+----+-----+------+\n",
      "| 88|15950| 19|51884|  Petrol| 97|       1|        0|1400|    3|  1100|\n",
      "| 89|21950| 19|50005|  Diesel|110|       1|        0|2000|    3|  1265|\n",
      "| 95|19950| 17|30351|  Diesel| 90|       1|        0|1995|    3|  1260|\n",
      "| 96|15950| 19|29435|  Petrol| 97|       1|        0|1400|    3|  1100|\n",
      "| 97|15950| 19|25948|  Petrol| 97|       1|        0|1400|    3|  1100|\n",
      "+---+-----+---+-----+--------+---+--------+---------+----+-----+------+\n",
      "only showing top 5 rows\n",
      "\n"
     ]
    }
   ],
   "source": [
    "# Filtrando dados\n",
    "tabela.filter(tabela.Age < 20).show(5)"
   ]
  },
  {
   "cell_type": "markdown",
   "id": "9d268747",
   "metadata": {},
   "source": [
    "#### Agregando"
   ]
  },
  {
   "cell_type": "code",
   "execution_count": 23,
   "id": "7ebfddf8",
   "metadata": {},
   "outputs": [
    {
     "name": "stdout",
     "output_type": "stream",
     "text": [
      "+----------+\n",
      "|min(Price)|\n",
      "+----------+\n",
      "|      4350|\n",
      "+----------+\n",
      "\n"
     ]
    }
   ],
   "source": [
    "#Encontrando o carro mais barato movido a Disel\n",
    "tabela.filter(tabela.FuelType == \"Diesel\").groupBy().min(\"Price\").show()"
   ]
  },
  {
   "cell_type": "code",
   "execution_count": 31,
   "id": "8d8dc885",
   "metadata": {},
   "outputs": [
    {
     "name": "stdout",
     "output_type": "stream",
     "text": [
      "+--------+\n",
      "|max(Age)|\n",
      "+--------+\n",
      "|      80|\n",
      "+--------+\n",
      "\n"
     ]
    }
   ],
   "source": [
    "#Encontrando o carro mais velho com cambio automático\n",
    "tabela.filter(tabela.Automatic == 1).groupBy().max(\"Age\").show()"
   ]
  },
  {
   "cell_type": "code",
   "execution_count": 33,
   "id": "8209387a",
   "metadata": {},
   "outputs": [
    {
     "name": "stdout",
     "output_type": "stream",
     "text": [
      "+-----------------+\n",
      "|       avg(Price)|\n",
      "+-----------------+\n",
      "|7912.583333333333|\n",
      "+-----------------+\n",
      "\n"
     ]
    }
   ],
   "source": [
    "# Encontrando o preço médio de um carro 4 portas movido a Diesel\n",
    "tabela.filter(tabela.Doors == 4).filter(tabela.FuelType == \"Diesel\").groupBy().avg(\"Price\").show()"
   ]
  },
  {
   "cell_type": "markdown",
   "id": "07a78743",
   "metadata": {},
   "source": [
    "#### Visualizando desvio padrão da coluna Age"
   ]
  },
  {
   "cell_type": "code",
   "execution_count": 46,
   "id": "cec9dc49",
   "metadata": {},
   "outputs": [
    {
     "name": "stdout",
     "output_type": "stream",
     "text": [
      "+-----+--------+-----------------+\n",
      "|Price|FuelType| stddev_samp(Age)|\n",
      "+-----+--------+-----------------+\n",
      "|15999|  Petrol|             null|\n",
      "|24500|  Petrol|             null|\n",
      "| 7750|     CNG|             null|\n",
      "| 9650|  Petrol|9.899494936611665|\n",
      "| 8500|  Diesel|4.349329450233296|\n",
      "+-----+--------+-----------------+\n",
      "only showing top 5 rows\n",
      "\n"
     ]
    }
   ],
   "source": [
    "import pyspark.sql.functions as F\n",
    "desv = tabela.groupBy(\"Price\", \"FuelType\")\n",
    "desv.agg(F.stddev(\"Age\")).show(5)"
   ]
  },
  {
   "cell_type": "markdown",
   "id": "7c124d8a",
   "metadata": {},
   "source": [
    "### Fazendo uma consulta Sql (query)"
   ]
  },
  {
   "cell_type": "code",
   "execution_count": 54,
   "id": "45b44c9e",
   "metadata": {},
   "outputs": [],
   "source": [
    "#Registrando o dataframe em uma view temporária\n",
    "tabela.createOrReplaceTempView(\"tabela\")\n",
    "# Selecionando as 10 primeiras linhas do dataset onde a idade é maior que 19\n",
    "query = \"FROM tabela SELECT * WHERE Age > 19 LIMIT 10\""
   ]
  },
  {
   "cell_type": "code",
   "execution_count": 55,
   "id": "6c06a11d",
   "metadata": {},
   "outputs": [
    {
     "name": "stdout",
     "output_type": "stream",
     "text": [
      "+---+-----+---+-----+-------------+----+--------+---------+----+-----+------+\n",
      "|_c0|Price|Age|   KM|     FuelType|  HP|MetColor|Automatic|  CC|Doors|Weight|\n",
      "+---+-----+---+-----+-------------+----+--------+---------+----+-----+------+\n",
      "|  0|13500| 23|46986|       Diesel|  90|       1|        0|2000|    3|  1165|\n",
      "|  1|13750| 23|72937|       Diesel|  90|       1|        0|2000|    3|  1165|\n",
      "|  2|13950| 24|41711|       Diesel|  90|       0|        0|2000|    3|  1165|\n",
      "|  3|14950| 26|48000|       Diesel|  90|       0|        0|2000|    3|  1165|\n",
      "|  4|13750| 30|38500|       Diesel|  90|       0|        0|2000|    3|  1170|\n",
      "|  5|12950| 32|61000|       Diesel|  90|       0|        0|2000|    3|  1170|\n",
      "|  6|16900| 27|   ??|       Diesel|????|       0|        0|2000|    3|  1245|\n",
      "|  7|18600| 30|75889|nao informado|  90|       1|        0|2000|    3|  1245|\n",
      "|  8|21500| 27|19700|       Petrol| 192|       0|        0|1800|    3|  1185|\n",
      "|  9|12950| 23|71138|       Diesel|????|       0|        0|1900|    3|  1105|\n",
      "+---+-----+---+-----+-------------+----+--------+---------+----+-----+------+\n",
      "\n"
     ]
    }
   ],
   "source": [
    "consulta = spark.sql(query)\n",
    "consulta.show()"
   ]
  }
 ],
 "metadata": {
  "kernelspec": {
   "display_name": "Python 3 (ipykernel)",
   "language": "python",
   "name": "python3"
  },
  "language_info": {
   "codemirror_mode": {
    "name": "ipython",
    "version": 3
   },
   "file_extension": ".py",
   "mimetype": "text/x-python",
   "name": "python",
   "nbconvert_exporter": "python",
   "pygments_lexer": "ipython3",
   "version": "3.9.7"
  }
 },
 "nbformat": 4,
 "nbformat_minor": 5
}
