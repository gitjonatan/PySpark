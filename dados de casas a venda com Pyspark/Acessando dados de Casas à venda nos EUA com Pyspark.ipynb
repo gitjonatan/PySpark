{
 "cells": [
  {
   "cell_type": "code",
   "execution_count": 10,
   "id": "690b8dbd",
   "metadata": {},
   "outputs": [],
   "source": [
    "import os\n",
    "os.environ['SPARK_HOME'] = \"C:/Users/jonat/Jupyter/spark-3.2.1-bin-hadoop2.7\""
   ]
  },
  {
   "cell_type": "code",
   "execution_count": 4,
   "id": "13ce9bff",
   "metadata": {},
   "outputs": [],
   "source": [
    "!pip install -q findspark"
   ]
  },
  {
   "cell_type": "code",
   "execution_count": 13,
   "id": "2b74a253",
   "metadata": {},
   "outputs": [],
   "source": [
    "import findspark\n",
    "findspark.init()"
   ]
  },
  {
   "cell_type": "code",
   "execution_count": 14,
   "id": "a6e77870",
   "metadata": {},
   "outputs": [],
   "source": [
    "#criar spark session\n",
    "from pyspark.sql import SparkSession\n",
    "spark = SparkSession.builder\\\n",
    "        .master('local')\\\n",
    "        .appName('sparkjupyter')\\\n",
    "        .getOrCreate()"
   ]
  },
  {
   "cell_type": "code",
   "execution_count": 19,
   "id": "696b1e84",
   "metadata": {},
   "outputs": [],
   "source": [
    "#importar o dataset\n",
    "df = spark.read.csv('C:/Users/jonat/Jupyter/House_Sales.csv', header=True, inferSchema=True)"
   ]
  },
  {
   "cell_type": "code",
   "execution_count": 20,
   "id": "91833da3",
   "metadata": {},
   "outputs": [
    {
     "name": "stdout",
     "output_type": "stream",
     "text": [
      "root\n",
      " |-- id: long (nullable = true)\n",
      " |-- date: string (nullable = true)\n",
      " |-- price: double (nullable = true)\n",
      " |-- bedrooms: integer (nullable = true)\n",
      " |-- bathrooms: double (nullable = true)\n",
      " |-- sqft_living: integer (nullable = true)\n",
      " |-- sqft_lot: integer (nullable = true)\n",
      " |-- floors: double (nullable = true)\n",
      " |-- waterfront: integer (nullable = true)\n",
      " |-- view: integer (nullable = true)\n",
      " |-- condition: integer (nullable = true)\n",
      " |-- grade: integer (nullable = true)\n",
      " |-- sqft_above: integer (nullable = true)\n",
      " |-- sqft_basement: integer (nullable = true)\n",
      " |-- yr_built: integer (nullable = true)\n",
      " |-- yr_renovated: integer (nullable = true)\n",
      " |-- zipcode: integer (nullable = true)\n",
      " |-- lat: double (nullable = true)\n",
      " |-- long: double (nullable = true)\n",
      " |-- sqft_living15: integer (nullable = true)\n",
      " |-- sqft_lot15: integer (nullable = true)\n",
      "\n"
     ]
    }
   ],
   "source": [
    "df.printSchema()"
   ]
  },
  {
   "cell_type": "code",
   "execution_count": 26,
   "id": "70461b81",
   "metadata": {},
   "outputs": [
    {
     "name": "stdout",
     "output_type": "stream",
     "text": [
      "+---------------+---------+--------+---------+---------+-----+\n",
      "|           date|    price|bedrooms|bathrooms|condition|grade|\n",
      "+---------------+---------+--------+---------+---------+-----+\n",
      "|20141013T000000| 221900.0|       3|      1.0|        3|    7|\n",
      "|20141209T000000| 538000.0|       3|     2.25|        3|    7|\n",
      "|20150225T000000| 180000.0|       2|      1.0|        3|    6|\n",
      "|20141209T000000| 604000.0|       4|      3.0|        5|    7|\n",
      "|20150218T000000| 510000.0|       3|      2.0|        3|    8|\n",
      "|20140512T000000|1225000.0|       4|      4.5|        3|   11|\n",
      "|20140627T000000| 257500.0|       3|     2.25|        3|    7|\n",
      "|20150115T000000| 291850.0|       3|      1.5|        3|    7|\n",
      "|20150415T000000| 229500.0|       3|      1.0|        3|    7|\n",
      "|20150312T000000| 323000.0|       3|      2.5|        3|    7|\n",
      "|20150403T000000| 662500.0|       3|      2.5|        3|    8|\n",
      "|20140527T000000| 468000.0|       2|      1.0|        4|    7|\n",
      "|20140528T000000| 310000.0|       3|      1.0|        4|    7|\n",
      "|20141007T000000| 400000.0|       3|     1.75|        4|    7|\n",
      "|20150312T000000| 530000.0|       5|      2.0|        3|    7|\n",
      "|20150124T000000| 650000.0|       4|      3.0|        3|    9|\n",
      "|20140731T000000| 395000.0|       3|      2.0|        3|    7|\n",
      "|20140529T000000| 485000.0|       4|      1.0|        4|    7|\n",
      "|20141205T000000| 189000.0|       2|      1.0|        4|    7|\n",
      "|20150424T000000| 230000.0|       3|      1.0|        4|    7|\n",
      "+---------------+---------+--------+---------+---------+-----+\n",
      "only showing top 20 rows\n",
      "\n"
     ]
    }
   ],
   "source": [
    "#selecinar colunas\n",
    "df_casas = df.select('date','price','bedrooms','bathrooms','condition','grade')\n",
    "df_casas.show()"
   ]
  },
  {
   "cell_type": "code",
   "execution_count": 28,
   "id": "deea5608",
   "metadata": {},
   "outputs": [
    {
     "name": "stdout",
     "output_type": "stream",
     "text": [
      "+---------------+---------+--------+---------+-----+---------+\n",
      "|           date|    price|bedrooms|condition|grade|banheiros|\n",
      "+---------------+---------+--------+---------+-----+---------+\n",
      "|20141013T000000| 221900.0|       3|        3|    7|        1|\n",
      "|20141209T000000| 538000.0|       3|        3|    7|        2|\n",
      "|20150225T000000| 180000.0|       2|        3|    6|        1|\n",
      "|20141209T000000| 604000.0|       4|        5|    7|        3|\n",
      "|20150218T000000| 510000.0|       3|        3|    8|        2|\n",
      "|20140512T000000|1225000.0|       4|        3|   11|        4|\n",
      "|20140627T000000| 257500.0|       3|        3|    7|        2|\n",
      "|20150115T000000| 291850.0|       3|        3|    7|        1|\n",
      "|20150415T000000| 229500.0|       3|        3|    7|        1|\n",
      "|20150312T000000| 323000.0|       3|        3|    7|        2|\n",
      "|20150403T000000| 662500.0|       3|        3|    8|        2|\n",
      "|20140527T000000| 468000.0|       2|        4|    7|        1|\n",
      "|20140528T000000| 310000.0|       3|        4|    7|        1|\n",
      "|20141007T000000| 400000.0|       3|        4|    7|        1|\n",
      "|20150312T000000| 530000.0|       5|        3|    7|        2|\n",
      "|20150124T000000| 650000.0|       4|        3|    9|        3|\n",
      "|20140731T000000| 395000.0|       3|        3|    7|        2|\n",
      "|20140529T000000| 485000.0|       4|        4|    7|        1|\n",
      "|20141205T000000| 189000.0|       2|        4|    7|        1|\n",
      "|20150424T000000| 230000.0|       3|        4|    7|        1|\n",
      "+---------------+---------+--------+---------+-----+---------+\n",
      "only showing top 20 rows\n",
      "\n"
     ]
    }
   ],
   "source": [
    "#mudar tipo da coluna\n",
    "df_novo = df_casas.withColumn('banheiros', df_casas['bathrooms'].cast('int')).drop('bathrooms')\n",
    "df_novo.show()"
   ]
  },
  {
   "cell_type": "code",
   "execution_count": 29,
   "id": "deda58b1",
   "metadata": {},
   "outputs": [
    {
     "name": "stdout",
     "output_type": "stream",
     "text": [
      "+---------------+---------+--------+---------+-----+---------+\n",
      "|           date|    price|bedrooms|condition|grade|banheiros|\n",
      "+---------------+---------+--------+---------+-----+---------+\n",
      "|20140512T000000|1225000.0|       4|        3|   11|        4|\n",
      "|20140826T000000|2000000.0|       3|        3|    9|        2|\n",
      "|20140626T000000| 937000.0|       3|        3|    8|        1|\n",
      "|20150302T000000| 719000.0|       4|        3|    8|        2|\n",
      "|20140811T000000| 775000.0|       4|        3|    8|        2|\n",
      "|20140707T000000| 861990.0|       5|        3|    9|        2|\n",
      "|20140716T000000| 785000.0|       4|        4|    9|        2|\n",
      "|20150311T000000|1350000.0|       3|        5|    9|        2|\n",
      "|20150303T000000| 920000.0|       5|        3|    8|        2|\n",
      "|20140512T000000| 885000.0|       4|        3|    9|        2|\n",
      "|20140827T000000| 951000.0|       5|        4|    8|        3|\n",
      "|20140909T000000| 975000.0|       4|        3|   10|        2|\n",
      "|20140612T000000|1325000.0|       5|        3|    8|        2|\n",
      "|20140912T000000|1040000.0|       5|        4|   11|        3|\n",
      "|20141105T000000| 832500.0|       4|        4|   10|        4|\n",
      "|20150323T000000| 720000.0|       4|        3|   10|        2|\n",
      "|20141114T000000| 940000.0|       3|        3|    9|        1|\n",
      "|20150311T000000|1099880.0|       5|        4|   10|        2|\n",
      "|20140908T000000| 905000.0|       4|        3|    7|        2|\n",
      "|20140611T000000| 850830.0|       3|        5|    9|        2|\n",
      "+---------------+---------+--------+---------+-----+---------+\n",
      "only showing top 20 rows\n",
      "\n"
     ]
    }
   ],
   "source": [
    "#filtrando\n",
    "df_novo.filter(df_novo.price > 700000).show()"
   ]
  },
  {
   "cell_type": "code",
   "execution_count": 30,
   "id": "6e38f45a",
   "metadata": {},
   "outputs": [
    {
     "name": "stdout",
     "output_type": "stream",
     "text": [
      "+-----------+\n",
      "|maior_preco|\n",
      "+-----------+\n",
      "|  7700000.0|\n",
      "+-----------+\n",
      "\n"
     ]
    }
   ],
   "source": [
    "#A casa mais cara\n",
    "from pyspark.sql.functions import max\n",
    "df_maior = df_novo.agg(max('price').alias('maior_preco')).show()"
   ]
  },
  {
   "cell_type": "code",
   "execution_count": 32,
   "id": "197b9e61",
   "metadata": {},
   "outputs": [
    {
     "name": "stdout",
     "output_type": "stream",
     "text": [
      "+---------------+---------+--------+---------+-----+---------+\n",
      "|           date|    price|bedrooms|condition|grade|banheiros|\n",
      "+---------------+---------+--------+---------+-----+---------+\n",
      "|20141013T000000|7700000.0|       6|        4|   13|        8|\n",
      "+---------------+---------+--------+---------+-----+---------+\n",
      "\n"
     ]
    }
   ],
   "source": [
    "#caracteristicas da casa mais cara\n",
    "df_maior_preco = df_novo.filter(df_novo.price == 7700000.0 )\n",
    "df_maior_preco.show()"
   ]
  },
  {
   "cell_type": "code",
   "execution_count": 41,
   "id": "5cfa3689",
   "metadata": {},
   "outputs": [
    {
     "name": "stdout",
     "output_type": "stream",
     "text": [
      "+---------+-----+\n",
      "|price    |count|\n",
      "+---------+-----+\n",
      "|330000.0 |119  |\n",
      "|300000.0 |133  |\n",
      "|495000.0 |70   |\n",
      "|532000.0 |9    |\n",
      "|1185000.0|8    |\n",
      "|452500.0 |4    |\n",
      "|431500.0 |2    |\n",
      "|3418800.0|1    |\n",
      "|751750.0 |1    |\n",
      "|217000.0 |11   |\n",
      "|502550.0 |1    |\n",
      "|814950.0 |1    |\n",
      "|156601.0 |1    |\n",
      "|352450.0 |1    |\n",
      "|475200.0 |1    |\n",
      "|804100.0 |1    |\n",
      "|326250.0 |1    |\n",
      "|640500.0 |2    |\n",
      "|147000.0 |2    |\n",
      "|649500.0 |2    |\n",
      "+---------+-----+\n",
      "only showing top 20 rows\n",
      "\n"
     ]
    }
   ],
   "source": [
    "from pyspark.sql.functions import count, col, asc, desc\n",
    "df_soma = df_novo.groupBy('price').count()\n",
    "df_soma.show(truncate=False)"
   ]
  },
  {
   "cell_type": "code",
   "execution_count": 42,
   "id": "8de5017c",
   "metadata": {},
   "outputs": [
    {
     "name": "stdout",
     "output_type": "stream",
     "text": [
      "+---------------+---------+--------+---------+-----+---------+\n",
      "|           date|    price|bedrooms|condition|grade|banheiros|\n",
      "+---------------+---------+--------+---------+-----+---------+\n",
      "|20141013T000000|7700000.0|       6|        4|   13|        8|\n",
      "|20140611T000000|7062500.0|       5|        3|   11|        4|\n",
      "|20140919T000000|6885000.0|       6|        3|   13|        7|\n",
      "|20140804T000000|5570000.0|       5|        3|   13|        5|\n",
      "|20150413T000000|5350000.0|       5|        3|   12|        5|\n",
      "|20150413T000000|5300000.0|       6|        4|   12|        6|\n",
      "|20141020T000000|5110800.0|       5|        3|   12|        5|\n",
      "|20140617T000000|4668000.0|       5|        3|   12|        6|\n",
      "|20140815T000000|4500000.0|       5|        3|   12|        5|\n",
      "|20140618T000000|4489000.0|       4|        3|   12|        3|\n",
      "|20150506T000000|4208000.0|       5|        3|   12|        6|\n",
      "|20141014T000000|4000000.0|       4|        3|   12|        5|\n",
      "|20141114T000000|3850000.0|       4|        4|   11|        4|\n",
      "|20140911T000000|3800000.0|       3|        3|   13|        4|\n",
      "|20140701T000000|3800000.0|       5|        4|   13|        5|\n",
      "|20140530T000000|3710000.0|       4|        4|   12|        3|\n",
      "|20150511T000000|3650000.0|       5|        3|   12|        3|\n",
      "|20150421T000000|3650000.0|       6|        5|   11|        4|\n",
      "|20140911T000000|3640900.0|       4|        4|   11|        3|\n",
      "|20141011T000000|3635000.0|       5|        3|   12|        6|\n",
      "+---------------+---------+--------+---------+-----+---------+\n",
      "only showing top 20 rows\n",
      "\n"
     ]
    }
   ],
   "source": [
    "df_novo.orderBy(col('price').desc()).show()"
   ]
  },
  {
   "cell_type": "code",
   "execution_count": 80,
   "id": "c3867eac",
   "metadata": {},
   "outputs": [
    {
     "name": "stdout",
     "output_type": "stream",
     "text": [
      "root\n",
      " |-- date: date (nullable = true)\n",
      " |-- price: double (nullable = true)\n",
      " |-- bedrooms: integer (nullable = true)\n",
      " |-- condition: integer (nullable = true)\n",
      " |-- grade: integer (nullable = true)\n",
      " |-- banheiros: integer (nullable = true)\n",
      "\n"
     ]
    }
   ],
   "source": [
    "#convertendo a colunada date de doble para data\n",
    "from pyspark.sql.functions import *\n",
    "from pyspark.sql.types import DateType\n",
    "\n",
    "df_data = df_novo.withColumn(\"date\",df_novo['date'].cast(DateType()))\n",
    "df_data.printSchema()\n"
   ]
  },
  {
   "cell_type": "code",
   "execution_count": 48,
   "id": "17d250ea",
   "metadata": {},
   "outputs": [
    {
     "name": "stdout",
     "output_type": "stream",
     "text": [
      "+---------------+---+\n",
      "|date           |qtd|\n",
      "+---------------+---+\n",
      "|20140623T000000|142|\n",
      "|20140626T000000|131|\n",
      "|20140625T000000|131|\n",
      "|20140708T000000|127|\n",
      "|20150427T000000|126|\n",
      "|20150325T000000|123|\n",
      "|20150414T000000|121|\n",
      "|20140709T000000|121|\n",
      "|20150422T000000|121|\n",
      "|20150428T000000|121|\n",
      "|20140624T000000|120|\n",
      "|20150421T000000|119|\n",
      "|20141028T000000|117|\n",
      "|20140826T000000|117|\n",
      "|20140714T000000|116|\n",
      "|20140520T000000|116|\n",
      "|20140701T000000|115|\n",
      "|20140820T000000|114|\n",
      "|20150429T000000|114|\n",
      "|20140617T000000|113|\n",
      "+---------------+---+\n",
      "only showing top 20 rows\n",
      "\n"
     ]
    }
   ],
   "source": [
    "#utilizando SQL\n",
    "df_novo.createOrReplaceTempView('casas')\n",
    "spark.sql('select date, count(*) as qtd from casas GROUP BY date ORDER BY qtd desc').show(truncate=False)"
   ]
  },
  {
   "cell_type": "code",
   "execution_count": null,
   "id": "d1e0f301",
   "metadata": {},
   "outputs": [],
   "source": []
  }
 ],
 "metadata": {
  "kernelspec": {
   "display_name": "Python 3 (ipykernel)",
   "language": "python",
   "name": "python3"
  },
  "language_info": {
   "codemirror_mode": {
    "name": "ipython",
    "version": 3
   },
   "file_extension": ".py",
   "mimetype": "text/x-python",
   "name": "python",
   "nbconvert_exporter": "python",
   "pygments_lexer": "ipython3",
   "version": "3.9.7"
  }
 },
 "nbformat": 4,
 "nbformat_minor": 5
}
